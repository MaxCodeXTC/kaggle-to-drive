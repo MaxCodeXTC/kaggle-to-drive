{
 "cells": [
  {
   "cell_type": "markdown",
   "metadata": {},
   "source": [
    "# Download kaggle dataset directly togoogle Drive"
   ]
  },
  {
   "cell_type": "markdown",
   "metadata": {},
   "source": [
    "## Steps to follow\n",
    "#### step 1 : Get your kaggle API token\n",
    "* LogIn to kaggle.com\n",
    "* Go to My Account section\n",
    "* Scroll Down and find API section\n",
    "* Now click on Create New API token and this will download a json file\n",
    "* We will use the info from json file to download datasets\n",
    "\n",
    "#### Step 2: Get the kaggle dataset API to download\n",
    "* Go to the dataset or competition whose data you want to download\n",
    "* Go to data Section and copy the API command to download dataset\n",
    "* save this command, we will use this next.\n",
    "\n",
    "#### Step 3: Open the notebook in colab and Run the cell and just provide the information<br>\n",
    "<strong>information required:</strong>\n",
    "1. Username(from json file)\n",
    "2. key(from json file)\n",
    "3. location of project where you want to save data\n",
    "4. kaggle download data api"
   ]
  },
  {
   "cell_type": "code",
   "execution_count": null,
   "metadata": {},
   "outputs": [],
   "source": [
    "import os\n",
    "from google.colab import drive\n",
    "drive.mount('/content/gdrive')\n",
    "\n",
    "os.environ['KAGGLE_USERNAME'] = input(\"Enter username from json file\") # username from the json file\n",
    "os.environ['KAGGLE_KEY'] = input(\"Enter key from json file\") # key from the json file\n",
    "\n",
    "path = input(\"Enter the location of project where you want to save data\")\n",
    "path= path.replace(\" \",\"\\ \")\n",
    "kaggle_api = input(\"Enter kaggle download data api\")\n",
    "kaggle = kaggle_api + \" -p \" + path\n",
    "os.system(kaggle)"
   ]
  }
 ],
 "metadata": {
  "colab": {
   "collapsed_sections": [],
   "name": "kaggle_downloader.ipynb",
   "provenance": []
  },
  "kernelspec": {
   "display_name": "Python 3",
   "language": "python",
   "name": "python3"
  },
  "language_info": {
   "codemirror_mode": {
    "name": "ipython",
    "version": 3
   },
   "file_extension": ".py",
   "mimetype": "text/x-python",
   "name": "python",
   "nbconvert_exporter": "python",
   "pygments_lexer": "ipython3",
   "version": "3.6.9"
  }
 },
 "nbformat": 4,
 "nbformat_minor": 1
}
